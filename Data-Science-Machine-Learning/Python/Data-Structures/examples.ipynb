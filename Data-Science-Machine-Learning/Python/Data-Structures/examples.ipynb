{
 "cells": [
  {
   "cell_type": "markdown",
   "metadata": {},
   "source": [
    "Example 1: Create a ToDo List to keep track of tasks"
   ]
  },
  {
   "cell_type": "code",
   "execution_count": 1,
   "metadata": {},
   "outputs": [
    {
     "name": "stdout",
     "output_type": "stream",
     "text": [
      "['Buy Groceries', 'Do Laundry', 'Cook Dinner', 'Walk Dog', 'Take out Trash']\n"
     ]
    }
   ],
   "source": [
    "to_do_list = [\"Buy Groceries\",\"Clean House\",\"Do Laundry\",\"Cook Dinner\",\"Do Homework\"]\n",
    "\n",
    "# Adding to task\n",
    "to_do_list.append(\"Walk Dog\")\n",
    "to_do_list.append(\"Take out Trash\")\n",
    "\n",
    "# Removing from task\n",
    "to_do_list.remove(\"Clean House\")\n",
    "to_do_list.remove(\"Do Homework\")\n",
    "\n",
    "print(to_do_list)"
   ]
  },
  {
   "cell_type": "markdown",
   "metadata": {},
   "source": [
    "Example 2: Organizing student grades"
   ]
  },
  {
   "cell_type": "code",
   "execution_count": 3,
   "metadata": {},
   "outputs": [
    {
     "name": "stdout",
     "output_type": "stream",
     "text": [
      "88.0\n",
      "95\n",
      "78\n"
     ]
    }
   ],
   "source": [
    "grades = [85,92,78,90,88]\n",
    "\n",
    "# Adding to grades\n",
    "grades.append(95)\n",
    "\n",
    "# Calculating the average grade\n",
    "average = sum(grades) / len(grades)\n",
    "print(average)\n",
    "\n",
    "# Finding the highest and lowest grade\n",
    "highest = max(grades)\n",
    "lowest = min(grades)\n",
    "print(highest)\n",
    "print(lowest)"
   ]
  },
  {
   "cell_type": "markdown",
   "metadata": {},
   "source": [
    "Example 3: Use a list to manage inventory items in a store"
   ]
  },
  {
   "cell_type": "code",
   "execution_count": null,
   "metadata": {},
   "outputs": [],
   "source": [
    "inventory = [\"apples\",\"bananas\",\"oranges\",\"grapes\",\"peaches\"]\n",
    "\n",
    "# Adding a new item\n",
    "inventory.append(\"kiwi\")\n",
    "\n",
    "# Removing an item\n",
    "inventory.remove(\"oranges\")\n",
    "\n",
    "# Checking if an item is in the list\n",
    "print(\"apples\" in inventory)\n",
    "\n"
   ]
  }
 ],
 "metadata": {
  "kernelspec": {
   "display_name": "base",
   "language": "python",
   "name": "python3"
  },
  "language_info": {
   "codemirror_mode": {
    "name": "ipython",
    "version": 3
   },
   "file_extension": ".py",
   "mimetype": "text/x-python",
   "name": "python",
   "nbconvert_exporter": "python",
   "pygments_lexer": "ipython3",
   "version": "3.12.7"
  }
 },
 "nbformat": 4,
 "nbformat_minor": 2
}
