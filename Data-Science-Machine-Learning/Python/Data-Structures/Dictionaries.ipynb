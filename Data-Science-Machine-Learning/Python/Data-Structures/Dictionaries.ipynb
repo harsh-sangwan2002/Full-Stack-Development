{
 "cells": [
  {
   "cell_type": "code",
   "execution_count": 2,
   "metadata": {},
   "outputs": [
    {
     "name": "stdout",
     "output_type": "stream",
     "text": [
      "{}\n",
      "{}\n",
      "<class 'dict'>\n",
      "<class 'dict'>\n"
     ]
    }
   ],
   "source": [
    "# Creating dictionaries\n",
    "empty_dict = {}\n",
    "my_empty_dict = dict()\n",
    "\n",
    "print(empty_dict)\n",
    "print(my_empty_dict)\n",
    "print(type(empty_dict))\n",
    "print(type(my_empty_dict))"
   ]
  },
  {
   "cell_type": "code",
   "execution_count": 3,
   "metadata": {},
   "outputs": [
    {
     "name": "stdout",
     "output_type": "stream",
     "text": [
      "{'name': 'Harsh Sangwan', 'age': 21, 'courses': ['Maths', 'Science']}\n"
     ]
    }
   ],
   "source": [
    "student = {\"name\":\"Harsh Sangwan\", \"age\":21, \"courses\":[\"Maths\", \"Science\"]}\n",
    "print(student)"
   ]
  },
  {
   "cell_type": "code",
   "execution_count": 6,
   "metadata": {},
   "outputs": [
    {
     "ename": "KeyError",
     "evalue": "'last_name'",
     "output_type": "error",
     "traceback": [
      "\u001b[0;31m---------------------------------------------------------------------------\u001b[0m",
      "\u001b[0;31mKeyError\u001b[0m                                  Traceback (most recent call last)",
      "Cell \u001b[0;32mIn[6], line 2\u001b[0m\n\u001b[1;32m      1\u001b[0m student[\u001b[38;5;124m\"\u001b[39m\u001b[38;5;124mname\u001b[39m\u001b[38;5;124m\"\u001b[39m]\n\u001b[0;32m----> 2\u001b[0m student[\u001b[38;5;124m\"\u001b[39m\u001b[38;5;124mlast_name\u001b[39m\u001b[38;5;124m\"\u001b[39m]\n",
      "\u001b[0;31mKeyError\u001b[0m: 'last_name'"
     ]
    }
   ],
   "source": [
    "student[\"name\"]\n",
    "student[\"last_name\"]"
   ]
  },
  {
   "cell_type": "code",
   "execution_count": 7,
   "metadata": {},
   "outputs": [],
   "source": [
    "student.get(\"last_name\")"
   ]
  },
  {
   "cell_type": "code",
   "execution_count": 8,
   "metadata": {},
   "outputs": [
    {
     "name": "stdout",
     "output_type": "stream",
     "text": [
      "{'name': 'Harsh Sangwan', 'age': 22, 'courses': ['Maths', 'Science'], 'phone': '555-5555'}\n"
     ]
    }
   ],
   "source": [
    "# Modifying dictionary elements\n",
    "student[\"age\"] = 22\n",
    "student[\"phone\"] = \"555-5555\"\n",
    "print(student)"
   ]
  },
  {
   "cell_type": "code",
   "execution_count": 9,
   "metadata": {},
   "outputs": [
    {
     "name": "stdout",
     "output_type": "stream",
     "text": [
      "{'name': 'Harsh Sangwan', 'courses': ['Maths', 'Science'], 'phone': '555-5555'}\n"
     ]
    }
   ],
   "source": [
    "del student[\"age\"]\n",
    "print(student)"
   ]
  },
  {
   "cell_type": "code",
   "execution_count": 10,
   "metadata": {},
   "outputs": [
    {
     "name": "stdout",
     "output_type": "stream",
     "text": [
      "dict_keys(['name', 'courses', 'phone'])\n",
      "dict_values(['Harsh Sangwan', ['Maths', 'Science'], '555-5555'])\n",
      "dict_items([('name', 'Harsh Sangwan'), ('courses', ['Maths', 'Science']), ('phone', '555-5555')])\n"
     ]
    }
   ],
   "source": [
    "keys = student.keys()\n",
    "print(keys)\n",
    "\n",
    "values = student.values()\n",
    "print(values)\n",
    "\n",
    "items = student.items()\n",
    "print(items)"
   ]
  },
  {
   "cell_type": "code",
   "execution_count": 11,
   "metadata": {},
   "outputs": [
    {
     "data": {
      "text/plain": [
       "{'name': 'Harsh Sangwan', 'courses': ['Maths', 'Science'], 'phone': '555-5555'}"
      ]
     },
     "execution_count": 11,
     "metadata": {},
     "output_type": "execute_result"
    }
   ],
   "source": [
    "# Shallow copy\n",
    "student"
   ]
  },
  {
   "cell_type": "code",
   "execution_count": 13,
   "metadata": {},
   "outputs": [],
   "source": [
    "student_copy = student"
   ]
  },
  {
   "cell_type": "code",
   "execution_count": 14,
   "metadata": {},
   "outputs": [
    {
     "name": "stdout",
     "output_type": "stream",
     "text": [
      "{'name': 'Krish', 'courses': ['Maths', 'Science'], 'phone': '555-5555'}\n"
     ]
    }
   ],
   "source": [
    "student_copy[\"name\"] = \"Krish\"\n",
    "print(student)"
   ]
  },
  {
   "cell_type": "code",
   "execution_count": 15,
   "metadata": {},
   "outputs": [
    {
     "name": "stdout",
     "output_type": "stream",
     "text": [
      "{'name': 'Krish', 'courses': ['Maths', 'Science'], 'phone': '555-5555'}\n"
     ]
    }
   ],
   "source": [
    "student_copy = student.copy()\n",
    "student_copy[\"name\"] = \"Harsh\"\n",
    "print(student)"
   ]
  },
  {
   "cell_type": "code",
   "execution_count": null,
   "metadata": {},
   "outputs": [
    {
     "name": "stdout",
     "output_type": "stream",
     "text": [
      "name\n",
      "courses\n",
      "phone\n"
     ]
    }
   ],
   "source": [
    "# Iterating over keys\n",
    "for keys in student.keys():\n",
    "    print(keys)"
   ]
  },
  {
   "cell_type": "code",
   "execution_count": 17,
   "metadata": {},
   "outputs": [
    {
     "name": "stdout",
     "output_type": "stream",
     "text": [
      "Krish\n",
      "['Maths', 'Science']\n",
      "555-5555\n"
     ]
    }
   ],
   "source": [
    "# Iterating over values\n",
    "for values in student.values():\n",
    "    print(values)"
   ]
  },
  {
   "cell_type": "code",
   "execution_count": 18,
   "metadata": {},
   "outputs": [
    {
     "name": "stdout",
     "output_type": "stream",
     "text": [
      "name Krish\n",
      "courses ['Maths', 'Science']\n",
      "phone 555-5555\n"
     ]
    }
   ],
   "source": [
    "# Iterating over items\n",
    "for keys, values in student.items():\n",
    "    print(keys, values)"
   ]
  },
  {
   "cell_type": "code",
   "execution_count": 19,
   "metadata": {},
   "outputs": [
    {
     "name": "stdout",
     "output_type": "stream",
     "text": [
      "{0: 0, 1: 1, 2: 4, 3: 9, 4: 16, 5: 25}\n"
     ]
    }
   ],
   "source": [
    "# Dictionary comprehension\n",
    "squares = {x:x*x for x in range(6)}\n",
    "print(squares)"
   ]
  },
  {
   "cell_type": "code",
   "execution_count": 20,
   "metadata": {},
   "outputs": [
    {
     "name": "stdout",
     "output_type": "stream",
     "text": [
      "{1: 1, 2: 3, 3: 3, 4: 1, 5: 1, 6: 3, 7: 1}\n"
     ]
    }
   ],
   "source": [
    "# Count elements in a list\n",
    "numbers = [1,2,2,2,3,3,3,4,5,6,6,6,7]\n",
    "count = {}\n",
    "\n",
    "for num in numbers:\n",
    "    if num in count:\n",
    "        count[num]+=1\n",
    "    else:\n",
    "        count[num] = 1\n",
    "\n",
    "print(count)"
   ]
  }
 ],
 "metadata": {
  "kernelspec": {
   "display_name": "base",
   "language": "python",
   "name": "python3"
  },
  "language_info": {
   "codemirror_mode": {
    "name": "ipython",
    "version": 3
   },
   "file_extension": ".py",
   "mimetype": "text/x-python",
   "name": "python",
   "nbconvert_exporter": "python",
   "pygments_lexer": "ipython3",
   "version": "3.12.7"
  }
 },
 "nbformat": 4,
 "nbformat_minor": 2
}
