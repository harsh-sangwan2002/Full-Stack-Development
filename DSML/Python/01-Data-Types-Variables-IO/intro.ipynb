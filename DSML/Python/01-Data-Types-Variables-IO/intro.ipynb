{
 "cells": [
  {
   "cell_type": "code",
   "execution_count": 1,
   "metadata": {
    "colab": {
     "base_uri": "https://localhost:8080/"
    },
    "executionInfo": {
     "elapsed": 16,
     "status": "ok",
     "timestamp": 1752769049818,
     "user": {
      "displayName": "Harsh Sangwan",
      "userId": "08474256416389901427"
     },
     "user_tz": -330
    },
    "id": "Qvq5WS3XLNNV",
    "outputId": "e4e74d4c-0144-4d9e-ec15-4eaa01db9650"
   },
   "outputs": [
    {
     "data": {
      "text/plain": [
       "7000"
      ]
     },
     "execution_count": 1,
     "metadata": {},
     "output_type": "execute_result"
    }
   ],
   "source": [
    "3000 + 4000"
   ]
  },
  {
   "cell_type": "markdown",
   "metadata": {},
   "source": []
  },
  {
   "cell_type": "code",
   "execution_count": 2,
   "metadata": {
    "colab": {
     "base_uri": "https://localhost:8080/"
    },
    "executionInfo": {
     "elapsed": 7,
     "status": "ok",
     "timestamp": 1752769070672,
     "user": {
      "displayName": "Harsh Sangwan",
      "userId": "08474256416389901427"
     },
     "user_tz": -330
    },
    "id": "3iDhqxupLXTZ",
    "outputId": "88b6fa70-6414-4216-f08a-8e446e1e8855"
   },
   "outputs": [
    {
     "data": {
      "text/plain": [
       "8"
      ]
     },
     "execution_count": 2,
     "metadata": {},
     "output_type": "execute_result"
    }
   ],
   "source": [
    "3+5"
   ]
  },
  {
   "cell_type": "code",
   "execution_count": 3,
   "metadata": {
    "colab": {
     "base_uri": "https://localhost:8080/"
    },
    "executionInfo": {
     "elapsed": 8,
     "status": "ok",
     "timestamp": 1752769338885,
     "user": {
      "displayName": "Harsh Sangwan",
      "userId": "08474256416389901427"
     },
     "user_tz": -330
    },
    "id": "qRgetZ8WLYUf",
    "outputId": "46d1d311-9330-493a-dff6-dec35795c193"
   },
   "outputs": [
    {
     "name": "stdout",
     "output_type": "stream",
     "text": [
      "3000\n"
     ]
    }
   ],
   "source": [
    "print(3000)"
   ]
  },
  {
   "cell_type": "code",
   "execution_count": 4,
   "metadata": {
    "colab": {
     "base_uri": "https://localhost:8080/"
    },
    "executionInfo": {
     "elapsed": 4,
     "status": "ok",
     "timestamp": 1752769354777,
     "user": {
      "displayName": "Harsh Sangwan",
      "userId": "08474256416389901427"
     },
     "user_tz": -330
    },
    "id": "NOXrPCqXMZzT",
    "outputId": "b243f424-34f7-4354-828a-146c6e157acd"
   },
   "outputs": [
    {
     "name": "stdout",
     "output_type": "stream",
     "text": [
      "125620\n"
     ]
    }
   ],
   "source": [
    "print(123234+2386)"
   ]
  },
  {
   "cell_type": "code",
   "execution_count": 5,
   "metadata": {
    "colab": {
     "base_uri": "https://localhost:8080/"
    },
    "executionInfo": {
     "elapsed": 4,
     "status": "ok",
     "timestamp": 1752769362528,
     "user": {
      "displayName": "Harsh Sangwan",
      "userId": "08474256416389901427"
     },
     "user_tz": -330
    },
    "id": "Oq6rsMKSMdrv",
    "outputId": "1dac012d-b985-4f0e-8aa5-9829560cfb20"
   },
   "outputs": [
    {
     "name": "stdout",
     "output_type": "stream",
     "text": [
      "Hello World!\n"
     ]
    }
   ],
   "source": [
    "print(\"Hello World!\")"
   ]
  },
  {
   "cell_type": "code",
   "execution_count": 6,
   "metadata": {
    "colab": {
     "base_uri": "https://localhost:8080/",
     "height": 35
    },
    "executionInfo": {
     "elapsed": 9,
     "status": "ok",
     "timestamp": 1752769473279,
     "user": {
      "displayName": "Harsh Sangwan",
      "userId": "08474256416389901427"
     },
     "user_tz": -330
    },
    "id": "qrM6yy2QMfk8",
    "outputId": "fcae51c1-7b06-4795-f9cc-400ca29014e4"
   },
   "outputs": [
    {
     "data": {
      "text/plain": [
       "'suraaj'"
      ]
     },
     "execution_count": 6,
     "metadata": {},
     "output_type": "execute_result"
    }
   ],
   "source": [
    "\"suraaj\""
   ]
  },
  {
   "cell_type": "code",
   "execution_count": 7,
   "metadata": {
    "colab": {
     "base_uri": "https://localhost:8080/",
     "height": 35
    },
    "executionInfo": {
     "elapsed": 38,
     "status": "ok",
     "timestamp": 1752769501942,
     "user": {
      "displayName": "Harsh Sangwan",
      "userId": "08474256416389901427"
     },
     "user_tz": -330
    },
    "id": "hs-jwiy3M6nh",
    "outputId": "0fa419db-3064-4b1e-f9ba-861128619ee5"
   },
   "outputs": [
    {
     "data": {
      "text/plain": [
       "'123456543'"
      ]
     },
     "execution_count": 7,
     "metadata": {},
     "output_type": "execute_result"
    }
   ],
   "source": [
    "\"12345\"+\"6543\""
   ]
  },
  {
   "cell_type": "code",
   "execution_count": 8,
   "metadata": {
    "colab": {
     "base_uri": "https://localhost:8080/"
    },
    "executionInfo": {
     "elapsed": 10,
     "status": "ok",
     "timestamp": 1752769565738,
     "user": {
      "displayName": "Harsh Sangwan",
      "userId": "08474256416389901427"
     },
     "user_tz": -330
    },
    "id": "5FGIvhLhNBmv",
    "outputId": "e2f24d9f-8d2f-4768-f055-dca1cddd84bb"
   },
   "outputs": [
    {
     "data": {
      "text/plain": [
       "9.06"
      ]
     },
     "execution_count": 8,
     "metadata": {},
     "output_type": "execute_result"
    }
   ],
   "source": [
    "1.07 + 7.99"
   ]
  },
  {
   "cell_type": "code",
   "execution_count": 9,
   "metadata": {
    "colab": {
     "base_uri": "https://localhost:8080/"
    },
    "executionInfo": {
     "elapsed": 7,
     "status": "ok",
     "timestamp": 1752769583772,
     "user": {
      "displayName": "Harsh Sangwan",
      "userId": "08474256416389901427"
     },
     "user_tz": -330
    },
    "id": "oFlGbCrCNRJR",
    "outputId": "d490f9fe-8ed3-4eab-bdf8-a66152c161b4"
   },
   "outputs": [
    {
     "data": {
      "text/plain": [
       "True"
      ]
     },
     "execution_count": 9,
     "metadata": {},
     "output_type": "execute_result"
    }
   ],
   "source": [
    "7 > 3"
   ]
  },
  {
   "cell_type": "code",
   "execution_count": 10,
   "metadata": {
    "colab": {
     "base_uri": "https://localhost:8080/"
    },
    "executionInfo": {
     "elapsed": 6,
     "status": "ok",
     "timestamp": 1752769590287,
     "user": {
      "displayName": "Harsh Sangwan",
      "userId": "08474256416389901427"
     },
     "user_tz": -330
    },
    "id": "fg1jQic4NVld",
    "outputId": "574b2e1b-292c-4945-ab20-7dc65476057c"
   },
   "outputs": [
    {
     "name": "stdout",
     "output_type": "stream",
     "text": [
      "True\n"
     ]
    }
   ],
   "source": [
    "print(7>3)"
   ]
  },
  {
   "cell_type": "code",
   "execution_count": 11,
   "metadata": {
    "colab": {
     "base_uri": "https://localhost:8080/"
    },
    "executionInfo": {
     "elapsed": 4,
     "status": "ok",
     "timestamp": 1752769611741,
     "user": {
      "displayName": "Harsh Sangwan",
      "userId": "08474256416389901427"
     },
     "user_tz": -330
    },
    "id": "dfZnQILWNXJu",
    "outputId": "6825d9c4-de42-4bae-8584-5c6e1ecd8a60"
   },
   "outputs": [
    {
     "data": {
      "text/plain": [
       "False"
      ]
     },
     "execution_count": 11,
     "metadata": {},
     "output_type": "execute_result"
    }
   ],
   "source": [
    "'hello'==' hello'"
   ]
  },
  {
   "cell_type": "code",
   "execution_count": 12,
   "metadata": {
    "colab": {
     "base_uri": "https://localhost:8080/"
    },
    "executionInfo": {
     "elapsed": 4,
     "status": "ok",
     "timestamp": 1752769637192,
     "user": {
      "displayName": "Harsh Sangwan",
      "userId": "08474256416389901427"
     },
     "user_tz": -330
    },
    "id": "tBaphfyCNcaw",
    "outputId": "6f73e774-c8f5-48d4-d314-af5fea3582b0"
   },
   "outputs": [
    {
     "data": {
      "text/plain": [
       "str"
      ]
     },
     "execution_count": 12,
     "metadata": {},
     "output_type": "execute_result"
    }
   ],
   "source": [
    "type('hello')"
   ]
  },
  {
   "cell_type": "code",
   "execution_count": 13,
   "metadata": {
    "colab": {
     "base_uri": "https://localhost:8080/"
    },
    "executionInfo": {
     "elapsed": 5,
     "status": "ok",
     "timestamp": 1752769639996,
     "user": {
      "displayName": "Harsh Sangwan",
      "userId": "08474256416389901427"
     },
     "user_tz": -330
    },
    "id": "CgW2n4OkNiog",
    "outputId": "77b8818c-ec2d-4aac-b810-32798270cbb7"
   },
   "outputs": [
    {
     "data": {
      "text/plain": [
       "int"
      ]
     },
     "execution_count": 13,
     "metadata": {},
     "output_type": "execute_result"
    }
   ],
   "source": [
    "type(123)"
   ]
  },
  {
   "cell_type": "code",
   "execution_count": 14,
   "metadata": {
    "colab": {
     "base_uri": "https://localhost:8080/"
    },
    "executionInfo": {
     "elapsed": 219,
     "status": "ok",
     "timestamp": 1752769643416,
     "user": {
      "displayName": "Harsh Sangwan",
      "userId": "08474256416389901427"
     },
     "user_tz": -330
    },
    "id": "6Y1obF2sNjSh",
    "outputId": "51bd63d4-7001-43a1-bbd7-87e2bcd83345"
   },
   "outputs": [
    {
     "data": {
      "text/plain": [
       "float"
      ]
     },
     "execution_count": 14,
     "metadata": {},
     "output_type": "execute_result"
    }
   ],
   "source": [
    "type(12.3)"
   ]
  },
  {
   "cell_type": "code",
   "execution_count": 15,
   "metadata": {
    "colab": {
     "base_uri": "https://localhost:8080/"
    },
    "executionInfo": {
     "elapsed": 4,
     "status": "ok",
     "timestamp": 1752769647432,
     "user": {
      "displayName": "Harsh Sangwan",
      "userId": "08474256416389901427"
     },
     "user_tz": -330
    },
    "id": "VG0hkJHKNkDu",
    "outputId": "c2825826-0944-4fde-cff6-76ff799623d7"
   },
   "outputs": [
    {
     "data": {
      "text/plain": [
       "bool"
      ]
     },
     "execution_count": 15,
     "metadata": {},
     "output_type": "execute_result"
    }
   ],
   "source": [
    "type(True)"
   ]
  },
  {
   "cell_type": "code",
   "execution_count": 16,
   "metadata": {
    "colab": {
     "base_uri": "https://localhost:8080/"
    },
    "executionInfo": {
     "elapsed": 9,
     "status": "ok",
     "timestamp": 1752769659332,
     "user": {
      "displayName": "Harsh Sangwan",
      "userId": "08474256416389901427"
     },
     "user_tz": -330
    },
    "id": "1Pdm6Ql-NlHM",
    "outputId": "b7760307-ddbe-4651-9d32-7d3dd3a60509"
   },
   "outputs": [
    {
     "data": {
      "text/plain": [
       "NoneType"
      ]
     },
     "execution_count": 16,
     "metadata": {},
     "output_type": "execute_result"
    }
   ],
   "source": [
    "type(None)"
   ]
  },
  {
   "cell_type": "code",
   "execution_count": 17,
   "metadata": {
    "executionInfo": {
     "elapsed": 69,
     "status": "ok",
     "timestamp": 1752769684673,
     "user": {
      "displayName": "Harsh Sangwan",
      "userId": "08474256416389901427"
     },
     "user_tz": -330
    },
    "id": "gdjpLAueNoAh"
   },
   "outputs": [],
   "source": [
    "# print(), type()"
   ]
  },
  {
   "cell_type": "code",
   "execution_count": 18,
   "metadata": {
    "colab": {
     "base_uri": "https://localhost:8080/"
    },
    "executionInfo": {
     "elapsed": 6,
     "status": "ok",
     "timestamp": 1752769763231,
     "user": {
      "displayName": "Harsh Sangwan",
      "userId": "08474256416389901427"
     },
     "user_tz": -330
    },
    "id": "DyLhp2v-NuNS",
    "outputId": "c6951897-477e-4e9c-e798-66334ab3b744"
   },
   "outputs": [
    {
     "name": "stdout",
     "output_type": "stream",
     "text": [
      "7\n"
     ]
    }
   ],
   "source": [
    "a = 3\n",
    "b = 4\n",
    "c = a+b\n",
    "print(c)"
   ]
  },
  {
   "cell_type": "code",
   "execution_count": 19,
   "metadata": {
    "colab": {
     "base_uri": "https://localhost:8080/"
    },
    "executionInfo": {
     "elapsed": 5,
     "status": "ok",
     "timestamp": 1752769783807,
     "user": {
      "displayName": "Harsh Sangwan",
      "userId": "08474256416389901427"
     },
     "user_tz": -330
    },
    "id": "ZT8ZBw04OBZP",
    "outputId": "c230af4d-3842-451f-928c-39b797dc3517"
   },
   "outputs": [
    {
     "name": "stdout",
     "output_type": "stream",
     "text": [
      "suraaj\n"
     ]
    }
   ],
   "source": [
    "x = \"suraaj\"\n",
    "y = \"hasija\"\n",
    "print(x)"
   ]
  },
  {
   "cell_type": "code",
   "execution_count": 20,
   "metadata": {
    "executionInfo": {
     "elapsed": 7,
     "status": "ok",
     "timestamp": 1752769790659,
     "user": {
      "displayName": "Harsh Sangwan",
      "userId": "08474256416389901427"
     },
     "user_tz": -330
    },
    "id": "FImaYxO-OGbR"
   },
   "outputs": [],
   "source": [
    "# Swapping the variables\n",
    "x,y = y,x"
   ]
  },
  {
   "cell_type": "code",
   "execution_count": 21,
   "metadata": {
    "colab": {
     "base_uri": "https://localhost:8080/"
    },
    "executionInfo": {
     "elapsed": 6,
     "status": "ok",
     "timestamp": 1752769794116,
     "user": {
      "displayName": "Harsh Sangwan",
      "userId": "08474256416389901427"
     },
     "user_tz": -330
    },
    "id": "fTdYUqzGOIGf",
    "outputId": "3b4f19b2-fddc-429c-db41-d31775789108"
   },
   "outputs": [
    {
     "name": "stdout",
     "output_type": "stream",
     "text": [
      "hasija\n"
     ]
    }
   ],
   "source": [
    "print(x)"
   ]
  },
  {
   "cell_type": "code",
   "execution_count": 22,
   "metadata": {
    "colab": {
     "base_uri": "https://localhost:8080/"
    },
    "executionInfo": {
     "elapsed": 218,
     "status": "ok",
     "timestamp": 1752769809262,
     "user": {
      "displayName": "Harsh Sangwan",
      "userId": "08474256416389901427"
     },
     "user_tz": -330
    },
    "id": "_wtUZL1OOI8N",
    "outputId": "8e1e9d9a-7abb-46fd-f900-5f8b9d12ecd8"
   },
   "outputs": [
    {
     "name": "stdout",
     "output_type": "stream",
     "text": [
      "hasijasuraaj\n"
     ]
    }
   ],
   "source": [
    "z = x+y\n",
    "print(z)"
   ]
  },
  {
   "cell_type": "code",
   "execution_count": 23,
   "metadata": {
    "executionInfo": {
     "elapsed": 33,
     "status": "ok",
     "timestamp": 1752769918893,
     "user": {
      "displayName": "Harsh Sangwan",
      "userId": "08474256416389901427"
     },
     "user_tz": -330
    },
    "id": "GwfOXi2uOMlu"
   },
   "outputs": [],
   "source": [
    "x = 20"
   ]
  },
  {
   "cell_type": "code",
   "execution_count": 24,
   "metadata": {
    "executionInfo": {
     "elapsed": 3,
     "status": "ok",
     "timestamp": 1752769921534,
     "user": {
      "displayName": "Harsh Sangwan",
      "userId": "08474256416389901427"
     },
     "user_tz": -330
    },
    "id": "pVOADZsJOnZd"
   },
   "outputs": [],
   "source": [
    "y = 30"
   ]
  },
  {
   "cell_type": "code",
   "execution_count": 25,
   "metadata": {
    "executionInfo": {
     "elapsed": 2,
     "status": "ok",
     "timestamp": 1752769924271,
     "user": {
      "displayName": "Harsh Sangwan",
      "userId": "08474256416389901427"
     },
     "user_tz": -330
    },
    "id": "A_P5TxzDOoAT"
   },
   "outputs": [],
   "source": [
    "z = x+y"
   ]
  },
  {
   "cell_type": "code",
   "execution_count": 26,
   "metadata": {
    "colab": {
     "base_uri": "https://localhost:8080/"
    },
    "executionInfo": {
     "elapsed": 5,
     "status": "ok",
     "timestamp": 1752769927181,
     "user": {
      "displayName": "Harsh Sangwan",
      "userId": "08474256416389901427"
     },
     "user_tz": -330
    },
    "id": "auBaFOfkOotx",
    "outputId": "7b4f4bb7-0436-4bc4-af14-d4e8c6439f75"
   },
   "outputs": [
    {
     "name": "stdout",
     "output_type": "stream",
     "text": [
      "50\n"
     ]
    }
   ],
   "source": [
    "print(z)"
   ]
  },
  {
   "cell_type": "code",
   "execution_count": 27,
   "metadata": {
    "colab": {
     "base_uri": "https://localhost:8080/"
    },
    "executionInfo": {
     "elapsed": 7,
     "status": "ok",
     "timestamp": 1752770011064,
     "user": {
      "displayName": "Harsh Sangwan",
      "userId": "08474256416389901427"
     },
     "user_tz": -330
    },
    "id": "-ehqbfVcOpbS",
    "outputId": "90e83d21-a453-4cc8-a888-a519ed11eeac"
   },
   "outputs": [
    {
     "name": "stdout",
     "output_type": "stream",
     "text": [
      "70\n"
     ]
    }
   ],
   "source": [
    "# Naming convention of variables\n",
    "A = 30\n",
    "B = 40\n",
    "C = A+B\n",
    "print(C)"
   ]
  },
  {
   "cell_type": "code",
   "execution_count": 28,
   "metadata": {
    "colab": {
     "base_uri": "https://localhost:8080/"
    },
    "executionInfo": {
     "elapsed": 11,
     "status": "ok",
     "timestamp": 1752770025038,
     "user": {
      "displayName": "Harsh Sangwan",
      "userId": "08474256416389901427"
     },
     "user_tz": -330
    },
    "id": "UyfWbbO9O95y",
    "outputId": "3dd2a732-2090-4ee5-c693-81f3b142494c"
   },
   "outputs": [
    {
     "name": "stdout",
     "output_type": "stream",
     "text": [
      "20\n"
     ]
    }
   ],
   "source": [
    "A20 = 20\n",
    "print(A20)"
   ]
  },
  {
   "cell_type": "code",
   "execution_count": 29,
   "metadata": {
    "colab": {
     "base_uri": "https://localhost:8080/"
    },
    "executionInfo": {
     "elapsed": 4,
     "status": "ok",
     "timestamp": 1752770049674,
     "user": {
      "displayName": "Harsh Sangwan",
      "userId": "08474256416389901427"
     },
     "user_tz": -330
    },
    "id": "8FBtj2wzO_ad",
    "outputId": "9362f2d7-db2b-4465-e5f2-6d65fb629921"
   },
   "outputs": [
    {
     "name": "stdout",
     "output_type": "stream",
     "text": [
      "20\n"
     ]
    }
   ],
   "source": [
    "_ = 20\n",
    "print(_)"
   ]
  },
  {
   "cell_type": "code",
   "execution_count": 30,
   "metadata": {
    "colab": {
     "base_uri": "https://localhost:8080/"
    },
    "executionInfo": {
     "elapsed": 14,
     "status": "ok",
     "timestamp": 1752770080073,
     "user": {
      "displayName": "Harsh Sangwan",
      "userId": "08474256416389901427"
     },
     "user_tz": -330
    },
    "id": "FjNzQAOVPHVN",
    "outputId": "d27d0b8e-3441-4278-ae01-e3736689dbff"
   },
   "outputs": [
    {
     "name": "stdout",
     "output_type": "stream",
     "text": [
      "30\n"
     ]
    }
   ],
   "source": [
    "suraaj_123 = 30\n",
    "print(suraaj_123)"
   ]
  },
  {
   "cell_type": "code",
   "execution_count": 31,
   "metadata": {
    "colab": {
     "base_uri": "https://localhost:8080/"
    },
    "executionInfo": {
     "elapsed": 3263,
     "status": "ok",
     "timestamp": 1752770125738,
     "user": {
      "displayName": "Harsh Sangwan",
      "userId": "08474256416389901427"
     },
     "user_tz": -330
    },
    "id": "lOwBHtT9POwN",
    "outputId": "9295f4f8-5c2e-40e3-f38e-cd1ee3e9a3a6"
   },
   "outputs": [],
   "source": [
    "# Inputs\n",
    "name = input()"
   ]
  },
  {
   "cell_type": "code",
   "execution_count": 32,
   "metadata": {
    "colab": {
     "base_uri": "https://localhost:8080/"
    },
    "executionInfo": {
     "elapsed": 2302,
     "status": "ok",
     "timestamp": 1752770141584,
     "user": {
      "displayName": "Harsh Sangwan",
      "userId": "08474256416389901427"
     },
     "user_tz": -330
    },
    "id": "ZodKaCtxPZG9",
    "outputId": "c54b6773-f3c9-4277-86c5-023b41747eef"
   },
   "outputs": [],
   "source": [
    "lastname = input()"
   ]
  },
  {
   "cell_type": "code",
   "execution_count": 33,
   "metadata": {
    "colab": {
     "base_uri": "https://localhost:8080/",
     "height": 35
    },
    "executionInfo": {
     "elapsed": 5,
     "status": "ok",
     "timestamp": 1752770146051,
     "user": {
      "displayName": "Harsh Sangwan",
      "userId": "08474256416389901427"
     },
     "user_tz": -330
    },
    "id": "g_hg8p6-PdNx",
    "outputId": "6a2a83fa-85fe-4a1e-d5ce-e2c18d9360c1"
   },
   "outputs": [
    {
     "data": {
      "text/plain": [
       "''"
      ]
     },
     "execution_count": 33,
     "metadata": {},
     "output_type": "execute_result"
    }
   ],
   "source": [
    "name + lastname"
   ]
  },
  {
   "cell_type": "code",
   "execution_count": 34,
   "metadata": {
    "colab": {
     "base_uri": "https://localhost:8080/"
    },
    "executionInfo": {
     "elapsed": 4189,
     "status": "ok",
     "timestamp": 1752770227810,
     "user": {
      "displayName": "Harsh Sangwan",
      "userId": "08474256416389901427"
     },
     "user_tz": -330
    },
    "id": "Maox3oSOPe3c",
    "outputId": "da35bd66-cb18-4c87-a91f-441b7246f4c0"
   },
   "outputs": [
    {
     "name": "stdout",
     "output_type": "stream",
     "text": [
      "Enter X\n"
     ]
    },
    {
     "ename": "ValueError",
     "evalue": "invalid literal for int() with base 10: ''",
     "output_type": "error",
     "traceback": [
      "\u001b[0;31m---------------------------------------------------------------------------\u001b[0m",
      "\u001b[0;31mValueError\u001b[0m                                Traceback (most recent call last)",
      "Cell \u001b[0;32mIn[34], line 2\u001b[0m\n\u001b[1;32m      1\u001b[0m \u001b[38;5;28mprint\u001b[39m(\u001b[38;5;124m\"\u001b[39m\u001b[38;5;124mEnter X\u001b[39m\u001b[38;5;124m\"\u001b[39m)\n\u001b[0;32m----> 2\u001b[0m x \u001b[38;5;241m=\u001b[39m \u001b[38;5;28;43mint\u001b[39;49m\u001b[43m(\u001b[49m\u001b[38;5;28;43minput\u001b[39;49m\u001b[43m(\u001b[49m\u001b[43m)\u001b[49m\u001b[43m)\u001b[49m\n\u001b[1;32m      3\u001b[0m \u001b[38;5;28mprint\u001b[39m(\u001b[38;5;124m\"\u001b[39m\u001b[38;5;124mEnter Y\u001b[39m\u001b[38;5;124m\"\u001b[39m)\n\u001b[1;32m      4\u001b[0m y \u001b[38;5;241m=\u001b[39m \u001b[38;5;28mint\u001b[39m(\u001b[38;5;28minput\u001b[39m())\n",
      "\u001b[0;31mValueError\u001b[0m: invalid literal for int() with base 10: ''"
     ]
    }
   ],
   "source": [
    "print(\"Enter X\")\n",
    "x = int(input())\n",
    "print(\"Enter Y\")\n",
    "y = int(input())\n",
    "z = x+y\n",
    "print(\"The final answer is: \",z)"
   ]
  },
  {
   "cell_type": "code",
   "execution_count": null,
   "metadata": {
    "colab": {
     "base_uri": "https://localhost:8080/",
     "height": 141
    },
    "executionInfo": {
     "elapsed": 194,
     "status": "error",
     "timestamp": 1752770304846,
     "user": {
      "displayName": "Harsh Sangwan",
      "userId": "08474256416389901427"
     },
     "user_tz": -330
    },
    "id": "yxclQf-cPxzU",
    "outputId": "55cf0fb0-ec4f-440c-9474-cfc981c33f38"
   },
   "outputs": [],
   "source": [
    "\"hello\"+5"
   ]
  }
 ],
 "metadata": {
  "colab": {
   "authorship_tag": "ABX9TyP7DCuppMrfY5VGmk4ry3Au",
   "provenance": []
  },
  "kernelspec": {
   "display_name": "Python 3",
   "name": "python3"
  },
  "language_info": {
   "codemirror_mode": {
    "name": "ipython",
    "version": 3
   },
   "file_extension": ".py",
   "mimetype": "text/x-python",
   "name": "python",
   "nbconvert_exporter": "python",
   "pygments_lexer": "ipython3",
   "version": "3.9.6"
  }
 },
 "nbformat": 4,
 "nbformat_minor": 0
}
